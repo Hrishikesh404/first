{
  "nbformat": 4,
  "nbformat_minor": 0,
  "metadata": {
    "colab": {
      "provenance": [],
      "include_colab_link": true
    },
    "kernelspec": {
      "name": "python3",
      "display_name": "Python 3"
    },
    "language_info": {
      "name": "python"
    }
  },
  "cells": [
    {
      "cell_type": "markdown",
      "metadata": {
        "id": "view-in-github",
        "colab_type": "text"
      },
      "source": [
        "<a href=\"https://colab.research.google.com/github/Hrishikesh404/first/blob/main/vacuum_clean_example.ipynb\" target=\"_parent\"><img src=\"https://colab.research.google.com/assets/colab-badge.svg\" alt=\"Open In Colab\"/></a>"
      ]
    },
    {
      "cell_type": "code",
      "execution_count": null,
      "metadata": {
        "colab": {
          "base_uri": "https://localhost:8080/"
        },
        "id": "obS_7qDDWFg6",
        "outputId": "e23e4962-7458-45f4-dbfd-bae388933b73"
      },
      "outputs": [
        {
          "output_type": "stream",
          "name": "stdout",
          "text": [
            "Position: (1, 0), Cleaned: {(1, 0)}\n",
            "Position: (1, 1), Cleaned: {(1, 0), (1, 1)}\n",
            "Position: (1, 0), Cleaned: {(1, 0), (1, 1)}\n",
            "Position: (0, 0), Cleaned: {(1, 0), (1, 1), (0, 0)}\n",
            "Position: (0, 0), Cleaned: {(1, 0), (1, 1), (0, 0)}\n",
            "Position: (0, 0), Cleaned: {(1, 0), (1, 1), (0, 0)}\n",
            "Position: (1, 0), Cleaned: {(1, 0), (1, 1), (0, 0)}\n",
            "Position: (1, 1), Cleaned: {(1, 0), (1, 1), (0, 0)}\n",
            "Position: (2, 1), Cleaned: {(1, 0), (1, 1), (2, 1), (0, 0)}\n",
            "Position: (2, 2), Cleaned: {(2, 1), (0, 0), (1, 1), (2, 2), (1, 0)}\n",
            "Position: (2, 3), Cleaned: {(2, 1), (0, 0), (1, 1), (2, 3), (2, 2), (1, 0)}\n",
            "Position: (1, 3), Cleaned: {(2, 1), (0, 0), (1, 1), (2, 3), (2, 2), (1, 0), (1, 3)}\n",
            "Position: (1, 4), Cleaned: {(2, 1), (0, 0), (1, 1), (1, 4), (2, 3), (2, 2), (1, 0), (1, 3)}\n",
            "Position: (1, 3), Cleaned: {(2, 1), (0, 0), (1, 1), (1, 4), (2, 3), (2, 2), (1, 0), (1, 3)}\n",
            "Position: (1, 2), Cleaned: {(1, 2), (2, 1), (0, 0), (1, 1), (1, 4), (2, 3), (2, 2), (1, 0), (1, 3)}\n",
            "Position: (2, 2), Cleaned: {(1, 2), (2, 1), (0, 0), (1, 1), (1, 4), (2, 3), (2, 2), (1, 0), (1, 3)}\n",
            "Position: (2, 1), Cleaned: {(1, 2), (2, 1), (0, 0), (1, 1), (1, 4), (2, 3), (2, 2), (1, 0), (1, 3)}\n",
            "Position: (2, 0), Cleaned: {(1, 2), (2, 1), (0, 0), (1, 1), (2, 0), (1, 4), (2, 3), (2, 2), (1, 0), (1, 3)}\n",
            "Position: (3, 0), Cleaned: {(1, 2), (2, 1), (0, 0), (1, 1), (2, 0), (1, 4), (3, 0), (2, 3), (2, 2), (1, 0), (1, 3)}\n",
            "Position: (3, 0), Cleaned: {(1, 2), (2, 1), (0, 0), (1, 1), (2, 0), (1, 4), (3, 0), (2, 3), (2, 2), (1, 0), (1, 3)}\n"
          ]
        }
      ],
      "source": [
        "import random\n",
        "\n",
        "class VacuumCleaner:\n",
        "    def __init__(self, grid_size):\n",
        "        self.grid_size = grid_size\n",
        "        self.position = (0, 0)\n",
        "        self.cleaned = set()\n",
        "        self.directions = [(0, 1), (1, 0), (0, -1), (-1, 0)]\n",
        "    def move(self):\n",
        "\n",
        "        direction = random.choice(self.directions)\n",
        "        new_position = (self.position[0] + direction[0], self.position[1] + direction[1])\n",
        "\n",
        "\n",
        "        if 0 <= new_position[0] < self.grid_size and 0 <= new_position[1] < self.grid_size:\n",
        "            self.position = new_position\n",
        "\n",
        "\n",
        "        self.cleaned.add(self.position)\n",
        "\n",
        "    def __str__(self):\n",
        "        return f\"Position: {self.position}, Cleaned: {self.cleaned}\"\n",
        "\n",
        "def main():\n",
        "    grid_size = 5\n",
        "    vacuum = VacuumCleaner(grid_size)\n",
        "\n",
        "    for _ in range(20):\n",
        "        vacuum.move()\n",
        "        print(vacuum)\n",
        "\n",
        "if __name__ == \"__main__\":\n",
        "    main()\n"
      ]
    },
    {
      "cell_type": "code",
      "source": [],
      "metadata": {
        "id": "NqO3cp9NgR81"
      },
      "execution_count": null,
      "outputs": []
    }
  ]
}