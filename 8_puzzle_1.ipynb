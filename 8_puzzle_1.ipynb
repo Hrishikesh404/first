{
  "nbformat": 4,
  "nbformat_minor": 0,
  "metadata": {
    "colab": {
      "provenance": [],
      "include_colab_link": true
    },
    "kernelspec": {
      "name": "python3",
      "display_name": "Python 3"
    },
    "language_info": {
      "name": "python"
    }
  },
  "cells": [
    {
      "cell_type": "markdown",
      "metadata": {
        "id": "view-in-github",
        "colab_type": "text"
      },
      "source": [
        "<a href=\"https://colab.research.google.com/github/Hrishikesh404/first/blob/main/8_puzzle_1.ipynb\" target=\"_parent\"><img src=\"https://colab.research.google.com/assets/colab-badge.svg\" alt=\"Open In Colab\"/></a>"
      ]
    },
    {
      "cell_type": "code",
      "source": [
        "def _init_(self,data,level,fval):\n",
        "   self.data = data\n",
        "   self.level = level\n",
        "   self.fval = fval\n",
        "\n",
        "   def generate_child(self):\n",
        "    x,y = self.find(self.data,'_')\n",
        "    val_list =[[x,y-1],[x,y+1],[x-1,y],[x+1,y]]\n",
        "    children =\n",
        "     for i in val_list:\n",
        "            child = self.shuffle(self.data,x,y,i[0],i[1])\n",
        "            if child is not None:\n",
        "                child_node = Node(child,self.level+1,0)\n",
        "                children.append(child_node)\n",
        "        return children\n",
        "\n",
        "        def shuffle(self,puz,x1,y1,x2,y2):\n",
        "           if x2 >= 0 and x2 < len(self.data) and y2 >= 0 and y2 < len(self.data):\n",
        "            temp_puz =\n",
        "            temp_puz = self.copy(puz)\n",
        "             temp = temp_puz[x2][y2]\n",
        "            temp_puz[x2][y2] = temp_puz[x1][y1]\n",
        "            temp_puz[x1][y1] = temp\n",
        "            return temp_puz\n",
        "        else:\n",
        "            return None\n",
        "\n",
        "\n",
        "            def copy(self,root):\n",
        "              temp=\n",
        "              for i in root:\n",
        "                t=\n",
        "                for j in i:\n",
        "                  t.append(j)\n",
        "                  temp.append(t)\n",
        "                  return temp\n",
        "\n",
        "                  def find(self,puz,x):\n",
        "                    for i in range(0,len(self.data)):\n",
        "                     for j in range(0,len(self.data)):\n",
        "                     if puz[i][j] == x:\n",
        "                      return i,j\n",
        "\n",
        "\n",
        "              class puzzle:\n",
        "                def _init_\n",
        "\n",
        "\n",
        "\n",
        "\n",
        "\n",
        "\n",
        "\n"
      ],
      "metadata": {
        "id": "NU1QG6fvQ_pn"
      },
      "execution_count": null,
      "outputs": []
    },
    {
      "cell_type": "code",
      "source": [],
      "metadata": {
        "id": "wR0Dq5n6RDQt"
      },
      "execution_count": null,
      "outputs": []
    }
  ]
}